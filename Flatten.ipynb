{
 "cells": [
  {
   "cell_type": "code",
   "execution_count": 12,
   "id": "ff0d44f1-709d-4c24-b25f-c5a858b0d127",
   "metadata": {},
   "outputs": [
    {
     "data": {
      "text/plain": [
       "[[1, 'a', ['cat'], 2], [[[3]], 'dog'], 4, 5]"
      ]
     },
     "execution_count": 12,
     "metadata": {},
     "output_type": "execute_result"
    }
   ],
   "source": [
    "oldList = [[1,'a',['cat'],2],[[[3]],'dog'],4,5]\n",
    "oldList"
   ]
  },
  {
   "cell_type": "code",
   "execution_count": 13,
   "id": "086b08b2-bc33-43ef-9648-03c8fdc8e840",
   "metadata": {},
   "outputs": [],
   "source": [
    "newList = []"
   ]
  },
  {
   "cell_type": "code",
   "execution_count": 14,
   "id": "7fe4fc97-f012-4103-aaf1-78b8a740b9d2",
   "metadata": {},
   "outputs": [
    {
     "name": "stdout",
     "output_type": "stream",
     "text": [
      "[1, 'a', 'cat', 2, 3, 'dog', 4, 5]\n"
     ]
    }
   ],
   "source": [
    "def flatten(n):\n",
    "    for i in n:\n",
    "        if isinstance(i, list):\n",
    "            flatten(i)\n",
    "        else:\n",
    "            newList.append(i)\n",
    "\n",
    "flatten(oldList)\n",
    "print(newList)"
   ]
  }
 ],
 "metadata": {
  "kernelspec": {
   "display_name": "Python 3",
   "language": "python",
   "name": "python3"
  },
  "language_info": {
   "codemirror_mode": {
    "name": "ipython",
    "version": 3
   },
   "file_extension": ".py",
   "mimetype": "text/x-python",
   "name": "python",
   "nbconvert_exporter": "python",
   "pygments_lexer": "ipython3",
   "version": "3.6.13"
  }
 },
 "nbformat": 4,
 "nbformat_minor": 5
}
