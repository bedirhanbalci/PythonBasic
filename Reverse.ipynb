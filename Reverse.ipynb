{
 "cells": [
  {
   "cell_type": "code",
   "execution_count": 5,
   "id": "f8a30f68-a4ab-45d5-ba48-2cdeb7b2ec15",
   "metadata": {},
   "outputs": [
    {
     "data": {
      "text/plain": [
       "[[1, 2], [3, 4], [5, 6, 7]]"
      ]
     },
     "execution_count": 5,
     "metadata": {},
     "output_type": "execute_result"
    }
   ],
   "source": [
    "oldList = [[1, 2], [3, 4], [5, 6, 7]]\n",
    "oldList"
   ]
  },
  {
   "cell_type": "code",
   "execution_count": 6,
   "id": "040b84ed-3ee2-4b63-85a2-3c2a63261a48",
   "metadata": {},
   "outputs": [],
   "source": [
    "def reverseList(arr):\n",
    "    for i in arr:\n",
    "        if type(i) is list:\n",
    "            reverse(i)\n",
    "    arr.reverse()\n",
    "    return arr"
   ]
  },
  {
   "cell_type": "code",
   "execution_count": 8,
   "id": "6b7565f0-ea59-4987-992c-da3b98e93d47",
   "metadata": {},
   "outputs": [
    {
     "data": {
      "text/plain": [
       "[[7, 6, 5], [4, 3], [2, 1]]"
      ]
     },
     "execution_count": 8,
     "metadata": {},
     "output_type": "execute_result"
    }
   ],
   "source": [
    "reverseList(oldList)"
   ]
  },
  {
   "cell_type": "code",
   "execution_count": null,
   "id": "e18688d7-a8c5-440f-9df3-095b428dd429",
   "metadata": {},
   "outputs": [],
   "source": []
  }
 ],
 "metadata": {
  "kernelspec": {
   "display_name": "Python 3",
   "language": "python",
   "name": "python3"
  },
  "language_info": {
   "codemirror_mode": {
    "name": "ipython",
    "version": 3
   },
   "file_extension": ".py",
   "mimetype": "text/x-python",
   "name": "python",
   "nbconvert_exporter": "python",
   "pygments_lexer": "ipython3",
   "version": "3.6.13"
  }
 },
 "nbformat": 4,
 "nbformat_minor": 5
}
